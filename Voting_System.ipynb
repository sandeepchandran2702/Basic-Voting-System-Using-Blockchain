{
  "nbformat": 4,
  "nbformat_minor": 0,
  "metadata": {
    "colab": {
      "name": "Voting System.ipynb",
      "provenance": [],
      "collapsed_sections": []
    },
    "kernelspec": {
      "name": "python3",
      "display_name": "Python 3"
    },
    "language_info": {
      "name": "python"
    }
  },
  "cells": [
    {
      "cell_type": "code",
      "metadata": {
        "id": "-uqim2mxRlke"
      },
      "source": [
        "#importing all the necessay library\n",
        "import hashlib\n",
        "import time"
      ],
      "execution_count": 1,
      "outputs": []
    },
    {
      "cell_type": "code",
      "metadata": {
        "id": "HPrQGomYPtRF"
      },
      "source": [
        "# declaring global list of block_chain\n",
        "global block_chain\n",
        "block_chain=[]  "
      ],
      "execution_count": 24,
      "outputs": []
    },
    {
      "cell_type": "code",
      "metadata": {
        "id": "0GAq_OXKSHxj"
      },
      "source": [
        "# declaring a dictionary for voter\n",
        "global voter\n",
        "voter = {\"voter_id\" : \"\",\n",
        "         \"voter_name\" : \"\",\n",
        "         \"voter_age\" : \"\",\n",
        "         \"city\" : \"\",\n",
        "         \"aadhar number\" : \"\",\n",
        "         \"phone_number\": \"\",\n",
        "         \"candidate_number\": \"\"\n",
        "         }         "
      ],
      "execution_count": 25,
      "outputs": []
    },
    {
      "cell_type": "code",
      "metadata": {
        "id": "vR1Ldh3FSRlA"
      },
      "source": [
        "# getting data for voter dictionary\n",
        "def get_data():\n",
        "    for item in voter.keys():\n",
        "        voter[item] = str(input(\"enter %s :\"%item))\n",
        "    ans = str(voter)\n",
        "    print(\"Thanks for casting your vote...Let it be a good beginning\")\n",
        "    return ans  "
      ],
      "execution_count": 21,
      "outputs": []
    },
    {
      "cell_type": "code",
      "metadata": {
        "id": "IqfxfNTESQTW"
      },
      "source": [
        "# hashing the data\n",
        "class neuralBlock:\n",
        "    def __init__(self,frontBlock,currentBlock):\n",
        "        self.frontBlock = frontBlock\n",
        "        self.currentBlock = currentBlock\n",
        "        \n",
        "        self.hashData = \"-\".join(currentBlock)+\"-\"+frontBlock\n",
        "        self.hashEncrypt = hashlib.sha512(self.hashData.encode()).hexdigest()\n",
        "                \n",
        "# returning the hash encrypt\n",
        "def createBlock(prevHash,Data):\n",
        "    a = neuralBlock(prevHash,Data)\n",
        "    return a.hashEncrypt  "
      ],
      "execution_count": 26,
      "outputs": []
    },
    {
      "cell_type": "code",
      "metadata": {
        "id": "rey1ZFOBTzon"
      },
      "source": [
        "# function to create blocks in the block chain\n",
        "def new_block():\n",
        "    l = []\n",
        "    if(len(block_chain) == 0):\n",
        "        key = input(\"Enter genesis new key :\")\n",
        "        value = get_data()\n",
        "        ans = createBlock(key,value)\n",
        "    else:\n",
        "        value = get_data()\n",
        "        ans = createBlock(block_chain[-1][0],value)\n",
        "    t = time.ctime(time.time())\n",
        "    l.append(ans)\n",
        "    l.append(t)\n",
        "    block_chain.append(l) "
      ],
      "execution_count": 27,
      "outputs": []
    },
    {
      "cell_type": "code",
      "metadata": {
        "id": "wPG7Zo0mQlVB"
      },
      "source": [
        "new_block()"
      ],
      "execution_count": null,
      "outputs": []
    }
  ]
}